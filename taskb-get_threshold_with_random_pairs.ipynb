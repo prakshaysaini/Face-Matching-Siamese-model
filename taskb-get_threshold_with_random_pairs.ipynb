{
 "cells": [
  {
   "cell_type": "code",
   "execution_count": null,
   "metadata": {
    "_cell_guid": "b1076dfc-b9ad-4769-8c92-a6c4dae69d19",
    "_uuid": "8f2839f25d086af736a60e9eeb907d3b93b6e0e5",
    "execution": {
     "iopub.execute_input": "2025-07-03T12:25:53.180627Z",
     "iopub.status.busy": "2025-07-03T12:25:53.180296Z",
     "iopub.status.idle": "2025-07-03T12:26:12.736439Z",
     "shell.execute_reply": "2025-07-03T12:26:12.735503Z",
     "shell.execute_reply.started": "2025-07-03T12:25:53.180576Z"
    },
    "trusted": true
   },
   "outputs": [
    {
     "name": "stderr",
     "output_type": "stream",
     "text": [
      "2025-07-03 12:25:56.383308: E external/local_xla/xla/stream_executor/cuda/cuda_fft.cc:477] Unable to register cuFFT factory: Attempting to register factory for plugin cuFFT when one has already been registered\n",
      "WARNING: All log messages before absl::InitializeLog() is called are written to STDERR\n",
      "E0000 00:00:1751545556.640380      35 cuda_dnn.cc:8310] Unable to register cuDNN factory: Attempting to register factory for plugin cuDNN when one has already been registered\n",
      "E0000 00:00:1751545556.713641      35 cuda_blas.cc:1418] Unable to register cuBLAS factory: Attempting to register factory for plugin cuBLAS when one has already been registered\n"
     ]
    },
    {
     "name": "stdout",
     "output_type": "stream",
     "text": [
      "🔄 Loading model...\n"
     ]
    },
    {
     "name": "stderr",
     "output_type": "stream",
     "text": [
      "2025-07-03 12:26:12.140046: E external/local_xla/xla/stream_executor/cuda/cuda_driver.cc:152] failed call to cuInit: INTERNAL: CUDA error: Failed call to cuInit: UNKNOWN ERROR (303)\n"
     ]
    },
    {
     "name": "stdout",
     "output_type": "stream",
     "text": [
      "✅ Model loaded.\n"
     ]
    }
   ],
   "source": [
    "\n",
    "import os\n",
    "import csv\n",
    "import cv2\n",
    "import numpy as np\n",
    "import random\n",
    "from sklearn.metrics.pairwise import euclidean_distances, cosine_distances\n",
    "from sklearn.metrics import f1_score\n",
    "from tqdm import tqdm\n",
    "import tensorflow as tf\n",
    "from tensorflow.keras.models import load_model\n",
    "\n",
    "# === CONFIG ===\n",
    "val_dir = r\"/kaggle/input/sunnycomsys-new/Comys_Hackathon5/Task_B/val\"\n",
    "model_path = \"/kaggle/input/finalh5/keras/default/1/taskb_siamese_embedding.h5\"\n",
    "image_size = (100, 100)\n",
    "embedding_dim = 128  # change only if your model returns something else\n",
    "\n",
    "csv_path = \"/kaggle/working/distances_output.csv\"\n",
    "\n",
    "# === Load model ===\n",
    "print(\"🔄 Loading model...\")\n",
    "model = load_model(model_path)\n",
    "print(\"✅ Model loaded.\")\n"
   ]
  },
  {
   "cell_type": "markdown",
   "metadata": {},
   "source": [
    "# 1-> get embeddings\n",
    "# 2-> save images names and distances in csv file\n",
    "# 3-> get best threshold with best score using a for loop "
   ]
  },
  {
   "cell_type": "code",
   "execution_count": 2,
   "metadata": {
    "execution": {
     "iopub.execute_input": "2025-07-03T12:26:12.738481Z",
     "iopub.status.busy": "2025-07-03T12:26:12.737904Z",
     "iopub.status.idle": "2025-07-03T12:26:12.757208Z",
     "shell.execute_reply": "2025-07-03T12:26:12.756214Z",
     "shell.execute_reply.started": "2025-07-03T12:26:12.738457Z"
    },
    "trusted": true
   },
   "outputs": [],
   "source": [
    "def get_embedding(image_path):\n",
    "    img = cv2.imread(image_path, cv2.IMREAD_GRAYSCALE)\n",
    "    img = cv2.resize(img, image_size)\n",
    "    img = img / 255.0\n",
    "    img = img.reshape((100, 100, 1))\n",
    "    img = np.expand_dims(img, axis=0)\n",
    "    return model.predict(img, verbose=0)[0]\n",
    "\n",
    "# === Collect images\n",
    "def load_all_images(val_dir):\n",
    "    identity_to_images = {}\n",
    "    for identity in os.listdir(val_dir):\n",
    "        person_path = os.path.join(val_dir, identity)\n",
    "        if not os.path.isdir(person_path): continue\n",
    "        imgs = []\n",
    "\n",
    "        for f in os.listdir(person_path):\n",
    "            if f.lower().endswith(('.jpg', '.jpeg', '.png')) and f != 'distortion':\n",
    "                imgs.append(os.path.join(person_path, f))\n",
    "\n",
    "        dist_path = os.path.join(person_path, \"distortion\")\n",
    "        if os.path.exists(dist_path):\n",
    "            for f in os.listdir(dist_path):\n",
    "                if f.lower().endswith(('.jpg', '.jpeg', '.png')):\n",
    "                    imgs.append(os.path.join(dist_path, f))\n",
    "\n",
    "        if len(imgs) >= 2:\n",
    "            identity_to_images[identity] = imgs\n",
    "    return identity_to_images\n",
    "\n",
    "# === Embedding all\n",
    "def compute_all_embeddings(identity_to_images):\n",
    "    img_to_id = {}\n",
    "    img_to_emb = {}\n",
    "    print(\"🔄 Computing embeddings...\")\n",
    "    for identity, imgs in tqdm(identity_to_images.items()):\n",
    "        for img_path in imgs:\n",
    "            img_to_id[img_path] = identity\n",
    "            img_to_emb[img_path] = get_embedding(img_path)\n",
    "    return img_to_id, img_to_emb\n",
    "\n",
    "# === Pair sampling\n",
    "def generate_all_pairs(img_to_id):\n",
    "    id_to_imgs = {}\n",
    "    for img_path, identity in img_to_id.items():\n",
    "        if identity not in id_to_imgs:\n",
    "            id_to_imgs[identity] = []\n",
    "        id_to_imgs[identity].append(img_path)\n",
    "\n",
    "    identities = list(id_to_imgs.keys())\n",
    "    matching_pairs = []\n",
    "    different_pairs = []\n",
    "\n",
    "    # === Matching pairs: all (i, j) where i < j for each identity\n",
    "    for identity in id_to_imgs:\n",
    "        img_list = id_to_imgs[identity]\n",
    "        for i in range(len(img_list)):\n",
    "            for j in range(i + 1, len(img_list)):\n",
    "                matching_pairs.append((img_list[i], img_list[j], 1))\n",
    "\n",
    "    # === Different pairs: one image from each different identity pair\n",
    "    for i in range(len(identities)):\n",
    "        for j in range(i + 1, len(identities)):\n",
    "            id1 = identities[i]\n",
    "            id2 = identities[j]\n",
    "            img1 = random.choice(id_to_imgs[id1])\n",
    "            img2 = random.choice(id_to_imgs[id2])\n",
    "            different_pairs.append((img1, img2, 0))\n",
    "\n",
    "    print(f\"✅ Matching pairs: {len(matching_pairs)}\")\n",
    "    print(f\"✅ Non-matching pairs: {len(different_pairs)}\")\n",
    "    return matching_pairs + different_pairs\n",
    "\n",
    "\n",
    "# === Evaluate and Save CSV\n",
    "def evaluate_threshold_and_save(pairs, img_to_emb, csv_path):\n",
    "    distances = []\n",
    "    labels = []\n",
    "    rows = []\n",
    "\n",
    "    print(\"🔍 Calculating distances and saving to CSV...\")\n",
    "    for img1, img2, label in tqdm(pairs):\n",
    "        emb1 = img_to_emb[img1]\n",
    "        emb2 = img_to_emb[img2]\n",
    "        dist = np.linalg.norm(emb1 - emb2)\n",
    "        distances.append(dist)\n",
    "        labels.append(label)\n",
    "        rows.append([os.path.basename(img1), os.path.basename(img2), label, dist])\n",
    "\n",
    "    # Save to CSV\n",
    "    with open(csv_path, 'w', newline='') as f:\n",
    "        writer = csv.writer(f)\n",
    "        writer.writerow([\"image1\", \"image2\", \"label\", \"distance\"])\n",
    "        writer.writerows(rows)\n",
    "    print(f\"📁 CSV saved to: {csv_path}\")\n",
    "\n",
    "    # Find best threshold\n",
    "    best_f1 = 0\n",
    "    best_threshold = 0\n",
    "    thresholds = np.linspace(min(distances), max(distances), 200)\n",
    "    for t in thresholds:\n",
    "        preds = [1 if d < t else 0 for d in distances]\n",
    "        f1 = f1_score(labels, preds)\n",
    "        if f1 > best_f1:\n",
    "            best_f1 = f1\n",
    "            best_threshold = t\n",
    "\n",
    "    print(f\"\\n✅ Best threshold: {best_threshold:.5f} with F1 Score: {best_f1:.4f}\")\n",
    "    return best_threshold"
   ]
  },
  {
   "cell_type": "code",
   "execution_count": 3,
   "metadata": {
    "execution": {
     "iopub.execute_input": "2025-07-03T12:26:12.758514Z",
     "iopub.status.busy": "2025-07-03T12:26:12.758186Z",
     "iopub.status.idle": "2025-07-03T12:32:54.105162Z",
     "shell.execute_reply": "2025-07-03T12:32:54.104286Z",
     "shell.execute_reply.started": "2025-07-03T12:26:12.758483Z"
    },
    "trusted": true
   },
   "outputs": [
    {
     "name": "stdout",
     "output_type": "stream",
     "text": [
      "🔄 Computing embeddings...\n"
     ]
    },
    {
     "name": "stderr",
     "output_type": "stream",
     "text": [
      "100%|██████████| 250/250 [06:17<00:00,  1.51s/it]\n"
     ]
    },
    {
     "name": "stdout",
     "output_type": "stream",
     "text": [
      "✅ Matching pairs: 51432\n",
      "✅ Non-matching pairs: 31125\n",
      "🔍 Calculating distances and saving to CSV...\n"
     ]
    },
    {
     "name": "stderr",
     "output_type": "stream",
     "text": [
      "100%|██████████| 82557/82557 [00:00<00:00, 152099.32it/s]\n"
     ]
    },
    {
     "name": "stdout",
     "output_type": "stream",
     "text": [
      "📁 CSV saved to: /kaggle/working/distances_output.csv\n",
      "\n",
      "✅ Best threshold: 95.99980 with F1 Score: 0.7712\n"
     ]
    }
   ],
   "source": [
    "identity_to_images = load_all_images(val_dir)   #load images \n",
    "img_to_id, img_to_emb = compute_all_embeddings(identity_to_images)  #calculate embeddings\n",
    "pairs = generate_all_pairs(img_to_id)   #generating pairs\n",
    "best_threshold = evaluate_threshold_and_save(pairs, img_to_emb, csv_path)"
   ]
  },
  {
   "cell_type": "markdown",
   "metadata": {},
   "source": [
    "# getting best thres hold manually"
   ]
  },
  {
   "cell_type": "code",
   "execution_count": 6,
   "metadata": {
    "execution": {
     "iopub.execute_input": "2025-07-03T12:59:44.971915Z",
     "iopub.status.busy": "2025-07-03T12:59:44.971573Z",
     "iopub.status.idle": "2025-07-03T13:00:16.563385Z",
     "shell.execute_reply": "2025-07-03T13:00:16.562411Z",
     "shell.execute_reply.started": "2025-07-03T12:59:44.971890Z"
    },
    "trusted": true
   },
   "outputs": [
    {
     "name": "stdout",
     "output_type": "stream",
     "text": [
      "Threshold: 50, Score: 0.5350, total correct: 44171 out of 82557\n",
      "Threshold: 51, Score: 0.5408, total correct: 44646 out of 82557\n",
      "Threshold: 52, Score: 0.5475, total correct: 45198 out of 82557\n",
      "Threshold: 53, Score: 0.5542, total correct: 45752 out of 82557\n",
      "Threshold: 54, Score: 0.5609, total correct: 46307 out of 82557\n",
      "Threshold: 55, Score: 0.5663, total correct: 46755 out of 82557\n",
      "Threshold: 56, Score: 0.5723, total correct: 47245 out of 82557\n",
      "Threshold: 57, Score: 0.5775, total correct: 47680 out of 82557\n",
      "Threshold: 58, Score: 0.5828, total correct: 48112 out of 82557\n",
      "Threshold: 59, Score: 0.5878, total correct: 48524 out of 82557\n",
      "Threshold: 60, Score: 0.5921, total correct: 48884 out of 82557\n",
      "Threshold: 61, Score: 0.5967, total correct: 49263 out of 82557\n",
      "Threshold: 62, Score: 0.6017, total correct: 49671 out of 82557\n",
      "Threshold: 63, Score: 0.6075, total correct: 50151 out of 82557\n",
      "Threshold: 64, Score: 0.6119, total correct: 50518 out of 82557\n",
      "Threshold: 65, Score: 0.6159, total correct: 50843 out of 82557\n",
      "Threshold: 66, Score: 0.6192, total correct: 51123 out of 82557\n",
      "Threshold: 67, Score: 0.6231, total correct: 51439 out of 82557\n",
      "Threshold: 68, Score: 0.6265, total correct: 51722 out of 82557\n",
      "Threshold: 69, Score: 0.6288, total correct: 51914 out of 82557\n",
      "Threshold: 70, Score: 0.6317, total correct: 52148 out of 82557\n",
      "Threshold: 71, Score: 0.6345, total correct: 52383 out of 82557\n",
      "Threshold: 72, Score: 0.6365, total correct: 52549 out of 82557\n",
      "Threshold: 73, Score: 0.6382, total correct: 52685 out of 82557\n",
      "Threshold: 74, Score: 0.6398, total correct: 52816 out of 82557\n",
      "Threshold: 75, Score: 0.6413, total correct: 52940 out of 82557\n",
      "Threshold: 76, Score: 0.6425, total correct: 53045 out of 82557\n",
      "Threshold: 77, Score: 0.6437, total correct: 53139 out of 82557\n",
      "Threshold: 78, Score: 0.6448, total correct: 53232 out of 82557\n",
      "Threshold: 79, Score: 0.6456, total correct: 53298 out of 82557\n",
      "Threshold: 80, Score: 0.6464, total correct: 53366 out of 82557\n",
      "Threshold: 81, Score: 0.6464, total correct: 53366 out of 82557\n",
      "Threshold: 82, Score: 0.6466, total correct: 53378 out of 82557\n",
      "Threshold: 83, Score: 0.6466, total correct: 53378 out of 82557\n",
      "Threshold: 84, Score: 0.6466, total correct: 53378 out of 82557\n",
      "Threshold: 85, Score: 0.6466, total correct: 53378 out of 82557\n",
      "Threshold: 86, Score: 0.6466, total correct: 53378 out of 82557\n",
      "Threshold: 87, Score: 0.6466, total correct: 53378 out of 82557\n",
      "Threshold: 88, Score: 0.6466, total correct: 53378 out of 82557\n",
      "Threshold: 89, Score: 0.6466, total correct: 53378 out of 82557\n",
      "Threshold: 90, Score: 0.6466, total correct: 53378 out of 82557\n",
      "Threshold: 91, Score: 0.6466, total correct: 53378 out of 82557\n",
      "Threshold: 92, Score: 0.6466, total correct: 53378 out of 82557\n",
      "Threshold: 93, Score: 0.6466, total correct: 53378 out of 82557\n",
      "Threshold: 94, Score: 0.6466, total correct: 53378 out of 82557\n",
      "Threshold: 95, Score: 0.6466, total correct: 53378 out of 82557\n",
      "Threshold: 96, Score: 0.6466, total correct: 53378 out of 82557\n",
      "Threshold: 97, Score: 0.6466, total correct: 53378 out of 82557\n",
      "Threshold: 98, Score: 0.6466, total correct: 53378 out of 82557\n",
      "Threshold: 99, Score: 0.6466, total correct: 53378 out of 82557\n",
      "Best threshold found: 82 with score: 0.6466 and total correct= 53378 out of 82557\n",
      "✅ Updated CSV saved with 'prediction' column at:\n",
      "/kaggle/working/distances_output.csv\n"
     ]
    }
   ],
   "source": [
    "import pandas as pd\n",
    "csv_path = \"/kaggle/working/distances_output.csv\"\n",
    "#threshold = 71.9999   #95.99980  64.3333 71.9999\n",
    "\n",
    "# Load the CSV\n",
    "df = pd.read_csv(csv_path)\n",
    "\n",
    "max=0\n",
    "best_threshold = 0\n",
    "for threshold in range(50,100):   #as observed in the csv, threshold must be between 50-100\n",
    "    df['prediction'] = df['distance'].apply(lambda d: 1 if d < threshold else 0)\n",
    "    df['score'] = df.apply(lambda row: 1 if row['label'] == row['prediction'] else 0, axis=1)\n",
    "    if(sum(df['score']) > max):\n",
    "        max = sum(df['score'])\n",
    "        score=max/len(df)\n",
    "        best_threshold = threshold\n",
    "    print(f\"Threshold: {threshold}, Score: {score:.4f}, total correct: {max} out of {len(df)}\")\n",
    "\n",
    "\n",
    "print(f\"Best threshold found: {best_threshold} with score: {score:.4f} and total correct= {max} out of {len(df)}\")\n",
    "df['prediction'] = df['distance'].apply(lambda d: 1 if d < best_threshold else 0)\n",
    "df['score'] = df.apply(lambda row: 1 if row['label'] == row['prediction'] else 0, axis=1)\n",
    "df.to_csv(csv_path, index=False)\n",
    "\n",
    "print(\"✅ Updated CSV saved with 'prediction' column at:\")\n",
    "print(csv_path)"
   ]
  },
  {
   "cell_type": "markdown",
   "metadata": {},
   "source": [
    "# best threshold found = 82"
   ]
  }
 ],
 "metadata": {
  "kaggle": {
   "accelerator": "none",
   "dataSources": [
    {
     "datasetId": 7740942,
     "sourceId": 12283024,
     "sourceType": "datasetVersion"
    },
    {
     "isSourceIdPinned": true,
     "modelId": 391687,
     "modelInstanceId": 370787,
     "sourceId": 457259,
     "sourceType": "modelInstanceVersion"
    }
   ],
   "dockerImageVersionId": 31040,
   "isGpuEnabled": false,
   "isInternetEnabled": true,
   "language": "python",
   "sourceType": "notebook"
  },
  "kernelspec": {
   "display_name": "Python 3",
   "language": "python",
   "name": "python3"
  },
  "language_info": {
   "codemirror_mode": {
    "name": "ipython",
    "version": 3
   },
   "file_extension": ".py",
   "mimetype": "text/x-python",
   "name": "python",
   "nbconvert_exporter": "python",
   "pygments_lexer": "ipython3",
   "version": "3.11.11"
  }
 },
 "nbformat": 4,
 "nbformat_minor": 4
}
